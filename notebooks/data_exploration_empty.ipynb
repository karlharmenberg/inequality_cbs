{
 "cells": [
  {
   "cell_type": "markdown",
   "metadata": {},
   "source": [
    "# Notebook for analyzing some data\n",
    "In this notebook, we download some __synthetic__ public-use data on households in Denmark and do some analysis.\n",
    "\n",
    "The data is from Eurostat, click [here](https://ec.europa.eu/eurostat/web/microdata/public-microdata) for more information."
   ]
  },
  {
   "cell_type": "code",
   "execution_count": null,
   "metadata": {},
   "outputs": [],
   "source": [
    "%matplotlib inline\n",
    "import numpy as np #Load a module which is good for everthing to do with numbers\n",
    "import pandas as pd #Load a module for working with data sets\n",
    "import matplotlib.pyplot as plt #Load a module good for plotting\n",
    "\n",
    "dataset = pd.read_csv('https://www.karlharmenberg.com/temp/DK_2013h_EUSILC.csv')\n",
    "#I uploaded the data set to my web page in preparation for this class"
   ]
  },
  {
   "cell_type": "markdown",
   "metadata": {},
   "source": [
    "Looking at the data set using pandas is easy. We just the write the name of the data set and hit shift-enter."
   ]
  },
  {
   "cell_type": "code",
   "execution_count": null,
   "metadata": {},
   "outputs": [],
   "source": []
  },
  {
   "cell_type": "markdown",
   "metadata": {},
   "source": [
    "Hmm, easy but maybe not so enlightening. What does \"HB030\" mean?\n",
    "\n",
    "After clicking around the Eurostat homepage, we come across the [manual](https://circabc.europa.eu/sd/a/d7e88330-3502-44fa-96ea-eab5579b4d1e/SILC065%20operation%202013%20VERSION%20MAY%202013.pdf).\n",
    "\n",
    "Now, looking at the manual, what does \"HB030\" mean?\n",
    "\n",
    "Can you find household gross income? Let's read the definition.\n",
    "\n",
    "## The distribution of household gross income\n",
    "Showing the distribution of household gross income is easy, we just write the following commands:"
   ]
  },
  {
   "cell_type": "code",
   "execution_count": null,
   "metadata": {},
   "outputs": [],
   "source": []
  },
  {
   "cell_type": "markdown",
   "metadata": {},
   "source": [
    "Let's compute the distribution of log income as well."
   ]
  },
  {
   "cell_type": "code",
   "execution_count": null,
   "metadata": {},
   "outputs": [],
   "source": []
  },
  {
   "cell_type": "markdown",
   "metadata": {},
   "source": [
    "How many households have negative gross income?\n",
    "How many households earn more than 1,000,000?"
   ]
  },
  {
   "cell_type": "code",
   "execution_count": null,
   "metadata": {},
   "outputs": [],
   "source": []
  },
  {
   "cell_type": "markdown",
   "metadata": {},
   "source": [
    "Now, let's draw the Lorenz curve. The way to do this is to:\n",
    "* Compute total income\n",
    "* Sort all the individuals for lowest to highest income and compute how much the first $n$ individuals earn, for all $n$.\n",
    "\n",
    "In Python, we define a _function_."
   ]
  },
  {
   "cell_type": "code",
   "execution_count": null,
   "metadata": {},
   "outputs": [],
   "source": [
    "def lorenz_curve(list_of_incomes):\n",
    "    total_income = sum(list_of_incomes)    \n",
    "    list_of_incomes_sorted = np.sort(list_of_incomes)\n",
    "    cumulative_income = np.cumsum(list_of_incomes_sorted)\n",
    "    return cumulative_income/total_income"
   ]
  },
  {
   "cell_type": "markdown",
   "metadata": {},
   "source": [
    "Now, we apply this function to our data and plot the results."
   ]
  },
  {
   "cell_type": "code",
   "execution_count": null,
   "metadata": {},
   "outputs": [],
   "source": []
  },
  {
   "cell_type": "markdown",
   "metadata": {},
   "source": [
    "Finally, we compute the Gini coefficient and the coefficient of variation:"
   ]
  },
  {
   "cell_type": "code",
   "execution_count": null,
   "metadata": {},
   "outputs": [],
   "source": [
    "def gini_coeff(x):\n",
    "    # requires all values in x to be zero or positive numbers,\n",
    "    # otherwise results are undefined\n",
    "    n = len(x)\n",
    "    s = x.sum()\n",
    "    r = np.argsort(np.argsort(-x)) # calculates zero-based ranks\n",
    "    return 1 - (2.0 * (r*x).sum() + s)/(n*s)\n",
    "\n",
    "print(\"Gini = \",gini_coeff(dataset['HY010']))\n",
    "print(\"CoV = \", dataset['HY010'].std()/dataset['HY010'].mean())"
   ]
  },
  {
   "cell_type": "code",
   "execution_count": null,
   "metadata": {},
   "outputs": [],
   "source": []
  }
 ],
 "metadata": {
  "kernelspec": {
   "display_name": "Python 3",
   "language": "python",
   "name": "python3"
  },
  "language_info": {
   "codemirror_mode": {
    "name": "ipython",
    "version": 3
   },
   "file_extension": ".py",
   "mimetype": "text/x-python",
   "name": "python",
   "nbconvert_exporter": "python",
   "pygments_lexer": "ipython3",
   "version": "3.7.3"
  }
 },
 "nbformat": 4,
 "nbformat_minor": 2
}
