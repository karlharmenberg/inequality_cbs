{
 "cells": [
  {
   "cell_type": "markdown",
   "metadata": {},
   "source": [
    "In this notebook, we simulate and compare Pigou's and Roy's models of how different abilities combine to generate output/productivity/income.\n",
    "\n",
    "Both Pigou and Roy postulate that the productivity of a worker depends on many different, and more or less independent, abilities. Pigou imagines that the productivity of a worker is the _sum_ of different abilities, while Roy imagines that the productivity of a worker is the _product_ of different abilities.\n",
    "\n",
    "Let's say that a worker is described by four different variables: $IQ$, $Strength$, $Work\\_Ethic$ and $Luck$.\n",
    "\n",
    "Workers differ. Some are smart, weak, hard-working and unlucky. Others are dumb, strong, lazy and lucky.\n",
    "Let's generate a bunch of workers.\n",
    "\n",
    "We make up the example as we go along. First, we import some Python modules. If you don't know what that means, don't worry. We are just telling the computer that we want to use some code (this particular code is good for randomizing)."
   ]
  },
  {
   "cell_type": "code",
   "execution_count": 18,
   "metadata": {
    "collapsed": true
   },
   "outputs": [],
   "source": [
    "from numpy.random import uniform"
   ]
  },
  {
   "cell_type": "markdown",
   "metadata": {},
   "source": [
    "Let's say that $IQ$ is a random number drawn between 20 and 30. In Python code, we write it this way:"
   ]
  },
  {
   "cell_type": "code",
   "execution_count": 19,
   "metadata": {
    "collapsed": true
   },
   "outputs": [],
   "source": [
    "iq = uniform(20,30)"
   ]
  },
  {
   "cell_type": "markdown",
   "metadata": {},
   "source": [
    "iq = uniform(20,30) tells the computer to generate a random number between 20 and 30, and to save it as iq.\n",
    "\n",
    "Let's further assume that $Strength$ is a random number between 10 and 20, that $Work\\_Ethic$ is a random number between 4 and 12, and that luck is a random number between 5 and 10."
   ]
  },
  {
   "cell_type": "code",
   "execution_count": 25,
   "metadata": {},
   "outputs": [],
   "source": [
    "strength = uniform(10,20)\n",
    "workethic = uniform(4, 12)\n",
    "luck = uniform(5,10)"
   ]
  },
  {
   "cell_type": "markdown",
   "metadata": {},
   "source": [
    "Pigou argues that the income of a worker should be the sum of the four characteristics,\n",
    "\n",
    "$Income_{Pigou} = IQ + Strength + Work\\_Ethic + Luck$,\n",
    "\n",
    "while Roy argues that the income of a worker may instead be the product of the four characteristics,\n",
    "\n",
    "$Income_{Roy} = IQ \\cdot Strength \\cdot Work\\_Ethic \\cdot Luck$."
   ]
  },
  {
   "cell_type": "code",
   "execution_count": 26,
   "metadata": {},
   "outputs": [
    {
     "name": "stdout",
     "output_type": "stream",
     "text": [
      "Income according to Pigou: 57.1151728705\n",
      "Income according to Roy: 24599.7343851\n"
     ]
    }
   ],
   "source": [
    "income_pigou = iq + strength + workethic + luck\n",
    "income_roy = iq * strength * workethic * luck\n",
    "\n",
    "print \"Income according to Pigou:\", income_pigou\n",
    "print \"Income according to Roy:\", income_roy"
   ]
  },
  {
   "cell_type": "markdown",
   "metadata": {},
   "source": [
    "Now, let's generate thousands of simulated workers, and look at the income distributions according to Pigou and Roy."
   ]
  },
  {
   "cell_type": "code",
   "execution_count": 22,
   "metadata": {
    "collapsed": true
   },
   "outputs": [],
   "source": [
    "income_distribution_pigou = []\n",
    "income_distribution_roy = []\n",
    "\n",
    "for count in range(10000):\n",
    "    iq = uniform(20,30)\n",
    "    strength = uniform(10,20)\n",
    "    workethic = uniform(4, 12)\n",
    "    luck = uniform(5,10)\n",
    "    \n",
    "    income_pigou = iq + strength + workethic + luck\n",
    "    income_roy = iq * strength * workethic * luck\n",
    "    \n",
    "    income_distribution_pigou.append(income_pigou)\n",
    "    income_distribution_roy.append(income_roy)"
   ]
  },
  {
   "cell_type": "markdown",
   "metadata": {},
   "source": [
    "After running this code, income_distribution_pigou and income_distribution_roy both contain 10,000 numbers. Let's look at the histograms of the two distributions.\n",
    "\n",
    "First, we look at the histogram of income if the productivity of a worker is the sum of the different abilities."
   ]
  },
  {
   "cell_type": "code",
   "execution_count": 27,
   "metadata": {},
   "outputs": [
    {
     "data": {
      "image/png": "[encoded data removed]",
      "text/plain": [
       "<matplotlib.figure.Figure at 0x7fb85c618bd0>"
      ]
     },
     "metadata": {},
     "output_type": "display_data"
    }
   ],
   "source": [
    "import matplotlib.pyplot as plt\n",
    "plt.hist(income_distribution_pigou, bins = 100)\n",
    "plt.xlabel(\"Income\")\n",
    "plt.title(\"Income distribution (Pigou)\")\n",
    "plt.show()"
   ]
  },
  {
   "cell_type": "markdown",
   "metadata": {},
   "source": [
    "It looks, more or less, like a normal distribution.\n",
    "\n",
    "What does the histogram of income look like if the productivity of a worker is the _product_ of the different abilities?"
   ]
  },
  {
   "cell_type": "code",
   "execution_count": 28,
   "metadata": {},
   "outputs": [
    {
     "data": {
      "image/png": "[encoded data removed]",
      "text/plain": [
       "<matplotlib.figure.Figure at 0x7fb85eca84d0>"
      ]
     },
     "metadata": {},
     "output_type": "display_data"
    }
   ],
   "source": [
    "plt.hist(income_distribution_roy, bins = 100)\n",
    "plt.xlabel(\"Income\")\n",
    "plt.title(\"Income distribution (Roy)\")\n",
    "plt.show()"
   ]
  },
  {
   "cell_type": "markdown",
   "metadata": {},
   "source": [
    "The income distribution from Roy's model does look like a real income distribution. It is skewed to the right and, to be technical, looks like a log-normal distribution.\n",
    "\n",
    "Pigou knew that the income distribution looked something like this and was perplexed because if income is generated by the sum of different abilities, then the income distribution ought to be normally distributed. Roy's insight was that if different abilities are multiplied together instead, then we do get an income distribution that \"looks like\" the real income distribution. "
   ]
  },
  {
   "cell_type": "markdown",
   "metadata": {},
   "source": [
    "__Question:__ In Pigou's imagined world, what would happen to an individual's income if she were ten percent smarter, ten percent stronger, ten percent more hard working and ten percent luckier? What would happen in Roy's imagined world?"
   ]
  }
 ],
 "metadata": {
  "kernelspec": {
   "display_name": "Python 2",
   "language": "python",
   "name": "python2"
  },
  "language_info": {
   "codemirror_mode": {
    "name": "ipython",
    "version": 2
   },
   "file_extension": ".py",
   "mimetype": "text/x-python",
   "name": "python",
   "nbconvert_exporter": "python",
   "pygments_lexer": "ipython2",
   "version": "2.7.13"
  }
 },
 "nbformat": 4,
 "nbformat_minor": 2
}
