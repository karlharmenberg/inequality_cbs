{
 "cells": [
  {
   "cell_type": "markdown",
   "metadata": {},
   "source": [
    "## Pigou's and Roy's Theories of How Income Relates to Ability\n",
    "\n",
    "In this notebook, we simulate and compare Pigou's and Roy's models of how different abilities combine to generate output/productivity/income.\n",
    "\n",
    "Both Pigou and Roy postulate that the productivity of a worker depends on many different, and more or less independent, abilities. Pigou imagines that the productivity of a worker is the _sum_ of different abilities, while Roy imagines that the productivity of a worker is the _product_ of different abilities.\n",
    "\n",
    "Let's say that a worker is described by four different variables: $IQ$, $Strength$, $Work\\_Ethic$ and $Luck$.\n",
    "\n",
    "Workers differ. Some are smart, weak, hard-working and unlucky. Others are dumb, strong, lazy and lucky.\n",
    "Let's generate a bunch of workers.\n",
    "\n",
    "We make up the example as we go along. First, we import some Python modules. If you don't know what that means, don't worry. We are just telling the computer that we want to use some code (this particular code is good for randomizing).\n",
    "\n",
    "Click on the box below so that the focus shifts to the box, then hit shift-enter. Shift-enter tells the computer to execute the code. A number should appear on the left, indicating that the code has been run."
   ]
  },
  {
   "cell_type": "code",
   "execution_count": null,
   "metadata": {},
   "outputs": [],
   "source": [
    "from numpy.random import uniform\n",
    "#When we draw numbers \"at random\", we use the uniform distribution.\n",
    "#See https://docs.scipy.org/doc/numpy-1.14.0/reference/routines.random.html if you want to draw numbers\n",
    "#using another distribution."
   ]
  },
  {
   "cell_type": "markdown",
   "metadata": {},
   "source": [
    "Let's say that $IQ$ is a random number drawn between 20 and 30. In Python code, we write it this way:"
   ]
  },
  {
   "cell_type": "code",
   "execution_count": null,
   "metadata": {},
   "outputs": [],
   "source": [
    "#FILL THIS IN"
   ]
  },
  {
   "cell_type": "markdown",
   "metadata": {},
   "source": [
    "iq = uniform(20,30) tells the computer to generate a random number between 20 and 30, and to save it as iq.\n",
    "\n",
    "Let's further assume that $Strength$ is a random number between 10 and 20, that $Work\\_Ethic$ is a random number between 4 and 12, and that luck is a random number between 5 and 10."
   ]
  },
  {
   "cell_type": "code",
   "execution_count": null,
   "metadata": {},
   "outputs": [],
   "source": [
    "#FILL THIS IN"
   ]
  },
  {
   "cell_type": "markdown",
   "metadata": {},
   "source": [
    "Pigou argues that the income of a worker should be the sum of the four characteristics,\n",
    "\n",
    "$Income_{Pigou} = IQ + Strength + Work\\_Ethic + Luck$,\n",
    "\n",
    "while Roy argues that the income of a worker may instead be the product of the four characteristics,\n",
    "\n",
    "$Income_{Roy} = IQ \\cdot Strength \\cdot Work\\_Ethic \\cdot Luck$."
   ]
  },
  {
   "cell_type": "code",
   "execution_count": null,
   "metadata": {},
   "outputs": [],
   "source": [
    "#FILL THIS IN"
   ]
  },
  {
   "cell_type": "markdown",
   "metadata": {},
   "source": [
    "Now, let's generate thousands of simulated workers, and look at the income distributions according to Pigou and Roy."
   ]
  },
  {
   "cell_type": "code",
   "execution_count": null,
   "metadata": {},
   "outputs": [],
   "source": [
    "income_distribution_pigou = []\n",
    "income_distribution_roy = []\n",
    "\n",
    "for count in range(10000):\n",
    "    #GENERATE DRAWS HERE\n",
    "    \n",
    "    income_pigou = 0 #CHANGE THIS\n",
    "    income_roy = 0 #CHANGE THIS\n",
    "    \n",
    "    income_distribution_pigou.append(income_pigou)\n",
    "    income_distribution_roy.append(income_roy)"
   ]
  },
  {
   "cell_type": "markdown",
   "metadata": {},
   "source": [
    "After running this code, income_distribution_pigou and income_distribution_roy both contain 10,000 numbers. Let's look at the histograms of the two distributions.\n",
    "\n",
    "First, we look at the histogram of income if the productivity of a worker is the sum of the different abilities."
   ]
  },
  {
   "cell_type": "code",
   "execution_count": null,
   "metadata": {},
   "outputs": [],
   "source": [
    "%matplotlib inline\n",
    "import matplotlib.pyplot as plt\n",
    "plt.hist(income_distribution_pigou, bins = 100)\n",
    "plt.xlabel(\"Income\")\n",
    "plt.title(\"Income distribution (Pigou)\")\n",
    "plt.show()"
   ]
  },
  {
   "cell_type": "markdown",
   "metadata": {},
   "source": [
    "It looks, more or less, like a normal distribution.\n",
    "\n",
    "What does the histogram of income look like if the productivity of a worker is the _product_ of the different abilities?"
   ]
  },
  {
   "cell_type": "code",
   "execution_count": null,
   "metadata": {},
   "outputs": [],
   "source": [
    "plt.hist(income_distribution_roy, bins = 100)\n",
    "plt.xlabel(\"Income\")\n",
    "plt.title(\"Income distribution (Roy)\")\n",
    "plt.show()"
   ]
  },
  {
   "cell_type": "markdown",
   "metadata": {},
   "source": [
    "The income distribution from Roy's model does look like a real income distribution. It is skewed to the right and, to be technical, looks like a log-normal distribution.\n",
    "\n",
    "Pigou knew that the income distribution looked something like this and was perplexed because if income is generated by the sum of different abilities, then the income distribution ought to be normally distributed. Roy's insight was that if different abilities are multiplied together instead, then we do get an income distribution that \"looks like\" the real income distribution. "
   ]
  },
  {
   "cell_type": "markdown",
   "metadata": {},
   "source": [
    "__Question:__ In Pigou's imagined world, what would happen to an individual's income if she were ten percent smarter, ten percent stronger, ten percent more hard working and ten percent luckier? What would happen in Roy's imagined world?"
   ]
  }
 ],
 "metadata": {
  "kernelspec": {
   "display_name": "Python 3",
   "language": "python",
   "name": "python3"
  },
  "language_info": {
   "codemirror_mode": {
    "name": "ipython",
    "version": 3
   },
   "file_extension": ".py",
   "mimetype": "text/x-python",
   "name": "python",
   "nbconvert_exporter": "python",
   "pygments_lexer": "ipython3",
   "version": "3.7.3"
  }
 },
 "nbformat": 4,
 "nbformat_minor": 2
}
